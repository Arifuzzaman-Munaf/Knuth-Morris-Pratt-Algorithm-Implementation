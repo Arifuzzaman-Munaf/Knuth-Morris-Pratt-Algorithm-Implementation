{
  "nbformat": 4,
  "nbformat_minor": 0,
  "metadata": {
    "colab": {
      "name": "KMP algorithm.ipynb",
      "provenance": []
    },
    "kernelspec": {
      "name": "python3",
      "display_name": "Python 3"
    },
    "language_info": {
      "name": "python"
    }
  },
  "cells": [
    {
      "cell_type": "markdown",
      "metadata": {
        "id": "vAWoRo85L862"
      },
      "source": [
        "# ***Prefix Function***\n",
        "\n",
        "---\n",
        "\n"
      ]
    },
    {
      "cell_type": "code",
      "metadata": {
        "colab": {
          "base_uri": "https://localhost:8080/"
        },
        "id": "4ff3zxgbL5Kc",
        "outputId": "cf1e2cc5-72a4-4341-8b66-bcbd3ef14bfe"
      },
      "source": [
        "def calculate_PI(p):\n",
        "\tl = len(p)\n",
        "\tpi = [0]\n",
        "\tk = 0\n",
        "\tfor i in range(1,l):\n",
        "\t\twhile(k > 0 and p[k] != p[i]):\n",
        "\t\t\tk = pi[k-1]\n",
        "\t\tif (p[k] == p[i]):\n",
        "\t\t\tk = k+1\n",
        "\t\tpi.append(k)\n",
        "\tprint(\"pattern is: \", p)\n",
        "\t\n",
        "\treturn pi\n",
        "\n",
        "\n",
        "str = \"abbaa\"\n",
        "calculate_PI(str)\n"
      ],
      "execution_count": 5,
      "outputs": [
        {
          "output_type": "stream",
          "text": [
            "pattern is:  abbaa\n"
          ],
          "name": "stdout"
        },
        {
          "output_type": "execute_result",
          "data": {
            "text/plain": [
              "[0, 0, 0, 1, 1]"
            ]
          },
          "metadata": {
            "tags": []
          },
          "execution_count": 5
        }
      ]
    },
    {
      "cell_type": "code",
      "metadata": {
        "colab": {
          "base_uri": "https://localhost:8080/"
        },
        "id": "qdCTpXkyZ_kf",
        "outputId": "886fa946-5ded-4bb3-8fcf-1e80885392b9"
      },
      "source": [
        "def alp(x):\n",
        "    if x== 'a':\n",
        "        return 1\n",
        "    if x== 'b':\n",
        "        return 2\n",
        "\n",
        "def computeTransFun(pat, M, TF) :\n",
        " \n",
        "    lps = 0\n",
        " \n",
        "    # Fill entries in first row\n",
        "    for x in range(NO_OF_CHARS) :\n",
        "        TF[0][x] = 0\n",
        "    TF[0][alp(pat[0])] = 1\n",
        " \n",
        "    # Fill entries in other rows\n",
        "    for i in range(1, M) :\n",
        "       \n",
        "        # Copy values from row at index lps\n",
        "        for x in range(NO_OF_CHARS) :\n",
        "            TF[i][x] = TF[lps][x]\n",
        " \n",
        "        # Update the entry corresponding to this character\n",
        "        TF[i][alp(pat[i])] = i + 1\n",
        " \n",
        "        # Update lps for next row to be filled\n",
        "        if (i < M) :\n",
        "            lps = TF[lps][alp(pat[i])]\n",
        "    return TF\n",
        "st = 'abbbababa'\n",
        "NO_OF_CHARS = 5\n",
        "TF = [[0 for i in range(NO_OF_CHARS)] for j in range(len(st) + 1)]\n",
        "computeTransFun(st,len(st),TF)"
      ],
      "execution_count": 6,
      "outputs": [
        {
          "output_type": "execute_result",
          "data": {
            "text/plain": [
              "[[0, 1, 0, 0, 0],\n",
              " [0, 1, 2, 0, 0],\n",
              " [0, 1, 3, 0, 0],\n",
              " [0, 1, 4, 0, 0],\n",
              " [0, 5, 0, 0, 0],\n",
              " [0, 1, 6, 0, 0],\n",
              " [0, 7, 3, 0, 0],\n",
              " [0, 1, 8, 0, 0],\n",
              " [0, 9, 3, 0, 0],\n",
              " [0, 0, 0, 0, 0]]"
            ]
          },
          "metadata": {
            "tags": []
          },
          "execution_count": 6
        }
      ]
    },
    {
      "cell_type": "code",
      "metadata": {
        "colab": {
          "base_uri": "https://localhost:8080/"
        },
        "id": "VF43NPjZVy4y",
        "outputId": "70263329-3336-4dfc-d93b-6e868a899ff5"
      },
      "source": [
        "def KMP_Matcher(t,p):\n",
        "\tn = len (t)\n",
        "\tm = len (p)\n",
        "\tpi = calculate_PI(p)\n",
        "\tk = 0\n",
        "\tfor i in range(n):\n",
        "\t\twhile (k > 0 and p[k] != t[i]):\n",
        "\t\t\tk = pi[k]\n",
        "\t\tif (p[k] == t[i]):\n",
        "\t\t\tk = k+1\n",
        "\t\tif (k == m):\n",
        "\t\t\tprint(\"pattern\",p + \" found at index \", i-m+1)\n",
        "\t\t\tk = 0\n",
        "\t\telse:\n",
        "\t\t\tif (i == n-1):\n",
        "\t\t\t\tprint(\"Pattern\", p + \" not found\")\n",
        "\n",
        "pat = \"madam\"\n",
        "str = \"five little madam jumping on the bed. one madam fell down and now there are just four monkey\"\n",
        "KMP_Matcher(str,pat)\n"
      ],
      "execution_count": 7,
      "outputs": [
        {
          "output_type": "stream",
          "text": [
            "pattern is:  madam\n",
            "pattern madam found at index  12\n",
            "pattern madam found at index  42\n",
            "Pattern madam not found\n"
          ],
          "name": "stdout"
        }
      ]
    }
  ]
}